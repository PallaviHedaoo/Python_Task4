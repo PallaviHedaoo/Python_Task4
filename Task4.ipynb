{
 "cells": [
  {
   "cell_type": "markdown",
   "metadata": {},
   "source": [
    "# 10 list examples using if-else and for loop condition :"
   ]
  },
  {
   "cell_type": "markdown",
   "metadata": {},
   "source": [
    "### 1) Username list : check if username is having odd or even value in end."
   ]
  },
  {
   "cell_type": "code",
   "execution_count": 1,
   "metadata": {},
   "outputs": [
    {
     "data": {
      "text/plain": [
       "['user1', 'user2', 'user3']"
      ]
     },
     "execution_count": 1,
     "metadata": {},
     "output_type": "execute_result"
    }
   ],
   "source": [
    "users = ['user1','user2','user3']\n",
    "users"
   ]
  },
  {
   "cell_type": "code",
   "execution_count": 14,
   "metadata": {},
   "outputs": [
    {
     "name": "stdout",
     "output_type": "stream",
     "text": [
      "number =  user1\n",
      "odd\n",
      "--\n",
      "number =  user2\n",
      "even\n",
      "--\n",
      "number =  user3\n",
      "odd\n",
      "--\n"
     ]
    }
   ],
   "source": [
    "for username in users:\n",
    "    last_digit = int(username[-1])\n",
    "    print('number = ', username)\n",
    "    if last_digit % 2 == 0:\n",
    "        print('even')\n",
    "    else:\n",
    "        print('odd')\n",
    "    print('--')"
   ]
  },
  {
   "cell_type": "markdown",
   "metadata": {},
   "source": [
    "### 2) areaCode - check if area code start with 2 or something else."
   ]
  },
  {
   "cell_type": "code",
   "execution_count": 28,
   "metadata": {},
   "outputs": [
    {
     "data": {
      "text/plain": [
       "[21302, 22320, 12323, 13434, 22323]"
      ]
     },
     "execution_count": 28,
     "metadata": {},
     "output_type": "execute_result"
    }
   ],
   "source": [
    "areaCode = [21302, 22320, 12323, 13434, 22323]\n",
    "areaCode"
   ]
  },
  {
   "cell_type": "code",
   "execution_count": 36,
   "metadata": {},
   "outputs": [
    {
     "name": "stdout",
     "output_type": "stream",
     "text": [
      "21302 starts with 2.\n",
      "--\n",
      "22320 starts with 2.\n",
      "--\n",
      "12323 starts with something else.\n",
      "--\n",
      "13434 starts with something else.\n",
      "--\n",
      "22323 starts with 2.\n",
      "--\n"
     ]
    }
   ],
   "source": [
    "for code in areaCode:\n",
    "    if str(code).startswith('2'):\n",
    "        print(f\"{code} starts with 2.\")\n",
    "    else:\n",
    "        print(f\"{code} starts with something else.\")\n",
    "    print('--')    "
   ]
  },
  {
   "cell_type": "markdown",
   "metadata": {},
   "source": [
    "### 3) String - Check if all the strings contain at least one vowel."
   ]
  },
  {
   "cell_type": "code",
   "execution_count": 57,
   "metadata": {},
   "outputs": [],
   "source": [
    "String = [\"hello\", \"world\", \"python\", \"programming\", \"complexity\", \"conditional\", \"statements\", \"evaluation\", \n",
    "          \"nested\", \"structure\", \"validation\", \"process\", \"execution\", \"iteration\", \"automation\"]\n",
    "\n",
    "vowels = ('aeiou')\n"
   ]
  },
  {
   "cell_type": "code",
   "execution_count": 66,
   "metadata": {},
   "outputs": [
    {
     "name": "stdout",
     "output_type": "stream",
     "text": [
      "hello contain vowels\n",
      "--\n",
      "world contain vowels\n",
      "--\n",
      "python contain vowels\n",
      "--\n",
      "programming contain vowels\n",
      "--\n",
      "complexity contain vowels\n",
      "--\n",
      "conditional contain vowels\n",
      "--\n",
      "statements contain vowels\n",
      "--\n",
      "evaluation contain vowels\n",
      "--\n",
      "nested contain vowels\n",
      "--\n",
      "structure contain vowels\n",
      "--\n",
      "validation contain vowels\n",
      "--\n",
      "process contain vowels\n",
      "--\n",
      "execution contain vowels\n",
      "--\n",
      "iteration contain vowels\n",
      "--\n",
      "automation contain vowels\n",
      "--\n"
     ]
    }
   ],
   "source": [
    "for word in String:\n",
    "    if any(vowel in word for vowel in vowels):\n",
    "        print(f\"{word} contain vowels\")\n",
    "    else:\n",
    "        print(f\"{word} does not contain vowels\")\n",
    "    print('--')"
   ]
  },
  {
   "cell_type": "markdown",
   "metadata": {},
   "source": [
    "### 4) Tuples - Check if the sum of all elements in each tuple is even."
   ]
  },
  {
   "cell_type": "code",
   "execution_count": 77,
   "metadata": {},
   "outputs": [],
   "source": [
    "Tuples = [(3, 4, 6), (1, 3, 2), (8, 0, 4), (5, 6, 0), (5, 7, 2), (6, 4, 6), \n",
    "         (9, 5, 0), (12, 0, 8), (11, 2, 2), (4, 4, 4), (1, 3, 4), (8, 9, 2), \n",
    "         (3, 5, 2), (6, 9, 6), (14, 10, 6)]"
   ]
  },
  {
   "cell_type": "code",
   "execution_count": 78,
   "metadata": {},
   "outputs": [
    {
     "name": "stdout",
     "output_type": "stream",
     "text": [
      "sum of (3, 4, 6) is odd\n",
      "--\n",
      "sum of (1, 3, 2) is even\n",
      "--\n",
      "sum of (8, 0, 4) is even\n",
      "--\n",
      "sum of (5, 6, 0) is odd\n",
      "--\n",
      "sum of (5, 7, 2) is even\n",
      "--\n",
      "sum of (6, 4, 6) is even\n",
      "--\n",
      "sum of (9, 5, 0) is even\n",
      "--\n",
      "sum of (12, 0, 8) is even\n",
      "--\n",
      "sum of (11, 2, 2) is odd\n",
      "--\n",
      "sum of (4, 4, 4) is even\n",
      "--\n",
      "sum of (1, 3, 4) is even\n",
      "--\n",
      "sum of (8, 9, 2) is odd\n",
      "--\n",
      "sum of (3, 5, 2) is even\n",
      "--\n",
      "sum of (6, 9, 6) is odd\n",
      "--\n",
      "sum of (14, 10, 6) is even\n",
      "--\n"
     ]
    }
   ],
   "source": [
    "for elements in Tuples:\n",
    "    if sum(elements) % 2 == 0:\n",
    "        print(f'sum of {elements} is even')\n",
    "    else:\n",
    "        print(f'sum of {elements} is odd')\n",
    "    print('--')"
   ]
  },
  {
   "cell_type": "markdown",
   "metadata": {},
   "source": [
    "### 5) Dictionaries - Check if all the dictionaries have a specific key."
   ]
  },
  {
   "cell_type": "code",
   "execution_count": 99,
   "metadata": {},
   "outputs": [],
   "source": [
    "Dictionaries = [{\"id\": 1, \"name\": \"Alice\"}, {\"id\": 2, \"name\": \"Bob\"}, {\"id\": 3, \"name\": \"Charlie\"}, \n",
    "         {\"name\": \"Diana\"}, {\"id\": 5, \"name\": \"Eve\"}, {\"id\": 6, \"name\": \"Frank\"}, \n",
    "         {\"id\": 7, \"name\": \"Grace\"}, {\"name\": \"Hank\"}, {\"id\": 9, \"name\": \"Ivy\"}, \n",
    "         {\"id\": 10, \"name\": \"Jack\"}, {\"id\": 11, \"name\": \"Kate\"}, {\"name\": \"Leo\"}, \n",
    "         {\"id\": 13, \"name\": \"Mia\"}, {\"name\": \"Nina\"}, {\"id\": 15, \"name\": \"Oscar\"}]\n",
    "\n",
    "key_to_check = 'id'"
   ]
  },
  {
   "cell_type": "code",
   "execution_count": 102,
   "metadata": {},
   "outputs": [
    {
     "name": "stdout",
     "output_type": "stream",
     "text": [
      "The dictionary {'id': 1, 'name': 'Alice'} contains the key 'id'\n",
      "--\n",
      "The dictionary {'id': 2, 'name': 'Bob'} contains the key 'id'\n",
      "--\n",
      "The dictionary {'id': 3, 'name': 'Charlie'} contains the key 'id'\n",
      "--\n",
      "The dictionary {'name': 'Diana'} is missing the key 'id'\n",
      "--\n",
      "The dictionary {'id': 5, 'name': 'Eve'} contains the key 'id'\n",
      "--\n",
      "The dictionary {'id': 6, 'name': 'Frank'} contains the key 'id'\n",
      "--\n",
      "The dictionary {'id': 7, 'name': 'Grace'} contains the key 'id'\n",
      "--\n",
      "The dictionary {'name': 'Hank'} is missing the key 'id'\n",
      "--\n",
      "The dictionary {'id': 9, 'name': 'Ivy'} contains the key 'id'\n",
      "--\n",
      "The dictionary {'id': 10, 'name': 'Jack'} contains the key 'id'\n",
      "--\n",
      "The dictionary {'id': 11, 'name': 'Kate'} contains the key 'id'\n",
      "--\n",
      "The dictionary {'name': 'Leo'} is missing the key 'id'\n",
      "--\n",
      "The dictionary {'id': 13, 'name': 'Mia'} contains the key 'id'\n",
      "--\n",
      "The dictionary {'name': 'Nina'} is missing the key 'id'\n",
      "--\n",
      "The dictionary {'id': 15, 'name': 'Oscar'} contains the key 'id'\n",
      "--\n"
     ]
    }
   ],
   "source": [
    "for dictionary in Dictionaries:\n",
    "    if key_to_check not in dictionary:\n",
    "        print(f\"The dictionary {dictionary} is missing the key '{key_to_check}'\")\n",
    "    else:\n",
    "        print(f\"The dictionary {dictionary} contains the key '{key_to_check}'\")\n",
    "    print('--')\n"
   ]
  },
  {
   "cell_type": "markdown",
   "metadata": {},
   "source": [
    "### 6) nestedList - Check if all inner lists contain more than 3 elements."
   ]
  },
  {
   "cell_type": "code",
   "execution_count": 105,
   "metadata": {},
   "outputs": [],
   "source": [
    "nestedList = [[1, 2, 3], [5, 6, 7, 8], [9, 10, 12], [13, 14, 15, 16], \n",
    "         [17, 18, 19, 20], [22, 24], [25, 26, 27, 28], [29, 30, 31, 32], \n",
    "         [33, 34, 35], [37, 38, 39, 40], [41, 42, 43, 44], [47, 48], \n",
    "         [49, 50, 51, 52], [53, 55, 56], [57, 58, 59, 60]]"
   ]
  },
  {
   "cell_type": "code",
   "execution_count": 117,
   "metadata": {},
   "outputs": [
    {
     "name": "stdout",
     "output_type": "stream",
     "text": [
      "Inner list '[1, 2, 3]' does not contain more than 3 elements\n",
      "--\n",
      "Inner list '[5, 6, 7, 8]' contains more than 3 elements\n",
      "--\n",
      "Inner list '[9, 10, 12]' does not contain more than 3 elements\n",
      "--\n",
      "Inner list '[13, 14, 15, 16]' contains more than 3 elements\n",
      "--\n",
      "Inner list '[17, 18, 19, 20]' contains more than 3 elements\n",
      "--\n",
      "Inner list '[22, 24]' does not contain more than 3 elements\n",
      "--\n",
      "Inner list '[25, 26, 27, 28]' contains more than 3 elements\n",
      "--\n",
      "Inner list '[29, 30, 31, 32]' contains more than 3 elements\n",
      "--\n",
      "Inner list '[33, 34, 35]' does not contain more than 3 elements\n",
      "--\n",
      "Inner list '[37, 38, 39, 40]' contains more than 3 elements\n",
      "--\n",
      "Inner list '[41, 42, 43, 44]' contains more than 3 elements\n",
      "--\n",
      "Inner list '[47, 48]' does not contain more than 3 elements\n",
      "--\n",
      "Inner list '[49, 50, 51, 52]' contains more than 3 elements\n",
      "--\n",
      "Inner list '[53, 55, 56]' does not contain more than 3 elements\n",
      "--\n",
      "Inner list '[57, 58, 59, 60]' contains more than 3 elements\n",
      "--\n"
     ]
    }
   ],
   "source": [
    "for innerlists in nestedList:\n",
    "    if len(innerlists) > 3:\n",
    "        print(f\"Inner list '{innerlists}' contains more than 3 elements\")\n",
    "    else:\n",
    "        print(f\"Inner list '{innerlists}' does not contain more than 3 elements\")\n",
    "    print('--')"
   ]
  },
  {
   "cell_type": "markdown",
   "metadata": {},
   "source": [
    "### 7) mixedDataTypes - Check whether an item in the list is dictionary."
   ]
  },
  {
   "cell_type": "code",
   "execution_count": 118,
   "metadata": {},
   "outputs": [],
   "source": [
    "mixedDataTypes = [42, \"hello\", 3.14, True, [1, 2, 3], {\"key\": \"value\"}, (4, 5), \n",
    "                  None, 0, \"world\", False, 1 + 2j, -7, \"end\", 10**6]"
   ]
  },
  {
   "cell_type": "code",
   "execution_count": 124,
   "metadata": {},
   "outputs": [
    {
     "name": "stdout",
     "output_type": "stream",
     "text": [
      "42 is not a dictionary.\n",
      "--\n",
      "hello is not a dictionary.\n",
      "--\n",
      "3.14 is not a dictionary.\n",
      "--\n",
      "True is not a dictionary.\n",
      "--\n",
      "[1, 2, 3] is not a dictionary.\n",
      "--\n",
      "{'key': 'value'} is a dictionary.\n",
      "--\n",
      "(4, 5) is not a dictionary.\n",
      "--\n",
      "None is not a dictionary.\n",
      "--\n",
      "0 is not a dictionary.\n",
      "--\n",
      "world is not a dictionary.\n",
      "--\n",
      "False is not a dictionary.\n",
      "--\n",
      "(1+2j) is not a dictionary.\n",
      "--\n",
      "-7 is not a dictionary.\n",
      "--\n",
      "end is not a dictionary.\n",
      "--\n",
      "1000000 is not a dictionary.\n",
      "--\n"
     ]
    }
   ],
   "source": [
    "for item in mixedDataTypes:\n",
    "    if isinstance(item, dict):\n",
    "        print(f\"{item} is a dictionary.\")\n",
    "    else:\n",
    "        print(f\"{item} is not a dictionary.\")\n",
    "    print('--')"
   ]
  },
  {
   "cell_type": "markdown",
   "metadata": {},
   "source": [
    "### 8) char_string_list - Check if the list contains length of string greater than a specific value and if it contains at least one integer.\n"
   ]
  },
  {
   "cell_type": "code",
   "execution_count": 45,
   "metadata": {},
   "outputs": [],
   "source": [
    "\n",
    "char_string_list = [\"abc12\", \"defGHI\", \"jklMNOp\", \"qrsTUVwx\", \"yzAB\", \"CD345EF\", \"GH678IJ\", \"KL90MN\", \n",
    "                    \"OPqrST\", \"UVwxYZ1\", \"ABcdEF2\", \"GHijKL3\", \"MnOpQR4\", \"STuvWX5\", \"YzAbCD6\", \"EfGhIj7\"]\n",
    "\n",
    "length_check = 6"
   ]
  },
  {
   "cell_type": "code",
   "execution_count": 46,
   "metadata": {},
   "outputs": [
    {
     "name": "stdout",
     "output_type": "stream",
     "text": [
      "\"abc12\" is not longer than 6.\n",
      "--\n",
      "\"defGHI\" is not longer than 6.\n",
      "--\n",
      "\"jklMNOp\" is longer than 6 but does not contain an integer.\n",
      "--\n",
      "\"qrsTUVwx\" is longer than 6 but does not contain an integer.\n",
      "--\n",
      "\"yzAB\" is not longer than 6.\n",
      "--\n",
      "\"CD345EF\" is longer than 6 and contains at least one integer.\n",
      "--\n",
      "\"GH678IJ\" is longer than 6 and contains at least one integer.\n",
      "--\n",
      "\"KL90MN\" is not longer than 6.\n",
      "--\n",
      "\"OPqrST\" is not longer than 6.\n",
      "--\n",
      "\"UVwxYZ1\" is longer than 6 and contains at least one integer.\n",
      "--\n",
      "\"ABcdEF2\" is longer than 6 and contains at least one integer.\n",
      "--\n",
      "\"GHijKL3\" is longer than 6 and contains at least one integer.\n",
      "--\n",
      "\"MnOpQR4\" is longer than 6 and contains at least one integer.\n",
      "--\n",
      "\"STuvWX5\" is longer than 6 and contains at least one integer.\n",
      "--\n",
      "\"YzAbCD6\" is longer than 6 and contains at least one integer.\n",
      "--\n",
      "\"EfGhIj7\" is longer than 6 and contains at least one integer.\n",
      "--\n"
     ]
    }
   ],
   "source": [
    "for string in char_string_list:\n",
    "    if len(string) > length_check:\n",
    "        if any(char.isdigit() for char in string):\n",
    "            print(f'\"{string}\" is longer than {length_check} and contains at least one integer.')\n",
    "        else:\n",
    "            print(f'\"{string}\" is longer than {length_check} but does not contain an integer.')\n",
    "    else:\n",
    "        print(f'\"{string}\" is not longer than {length_check}.')\n",
    "    print('--')"
   ]
  },
  {
   "cell_type": "markdown",
   "metadata": {},
   "source": [
    "### 9) cap_string_list - check if the list contains strings with all caps and all lowercases."
   ]
  },
  {
   "cell_type": "code",
   "execution_count": 47,
   "metadata": {},
   "outputs": [],
   "source": [
    "cap_string_list = [\"ALLCAPS\", \"lowercase\", \"MiXeDcApS\", \"another\", \"TESTING\", \"example\", \"rAnDoM\", \"string\", \n",
    "                   \"COMPLEX\", \"values\", \"mOrE\", \"testing\", \"FINAL\", \"check\", \"vAlId\", \"python\"]"
   ]
  },
  {
   "cell_type": "code",
   "execution_count": 17,
   "metadata": {},
   "outputs": [
    {
     "name": "stdout",
     "output_type": "stream",
     "text": [
      "ALLCAPS is of uppercase.\n",
      "--\n",
      "lowercase is of lowercase.\n",
      "--\n",
      "MiXeDcApS is of mixed cases\n",
      "--\n",
      "another is of lowercase.\n",
      "--\n",
      "TESTING is of uppercase.\n",
      "--\n",
      "example is of lowercase.\n",
      "--\n",
      "rAnDoM is of mixed cases\n",
      "--\n",
      "string is of lowercase.\n",
      "--\n",
      "COMPLEX is of uppercase.\n",
      "--\n",
      "values is of lowercase.\n",
      "--\n",
      "mOrE is of mixed cases\n",
      "--\n",
      "testing is of lowercase.\n",
      "--\n",
      "FINAL is of uppercase.\n",
      "--\n",
      "check is of lowercase.\n",
      "--\n",
      "vAlId is of mixed cases\n",
      "--\n",
      "python is of lowercase.\n",
      "--\n"
     ]
    }
   ],
   "source": [
    "for string in cap_string_list:\n",
    "    if string.isupper():\n",
    "        print(f\"{string} is of uppercase.\")\n",
    "    elif string.islower():\n",
    "        print(f\"{string} is of lowercase.\")\n",
    "    else:\n",
    "        print(f\"{string} is of mixed cases\")\n",
    "    print('--')"
   ]
  },
  {
   "cell_type": "markdown",
   "metadata": {},
   "source": [
    "### 10) float_int_list - check whether each number is a float or an integer."
   ]
  },
  {
   "cell_type": "code",
   "execution_count": 34,
   "metadata": {},
   "outputs": [],
   "source": [
    "float_int_list = [1.0, 2, 3.0, 4, 5.0, 6, 7.0, 8, 9.0, 10, 11.0, 12, 13.0, 14, 15.0, 16]"
   ]
  },
  {
   "cell_type": "code",
   "execution_count": 37,
   "metadata": {},
   "outputs": [
    {
     "name": "stdout",
     "output_type": "stream",
     "text": [
      "1.0 is a float.\n",
      "--\n",
      "2 is an integer.\n",
      "--\n",
      "3.0 is a float.\n",
      "--\n",
      "4 is an integer.\n",
      "--\n",
      "5.0 is a float.\n",
      "--\n",
      "6 is an integer.\n",
      "--\n",
      "7.0 is a float.\n",
      "--\n",
      "8 is an integer.\n",
      "--\n",
      "9.0 is a float.\n",
      "--\n",
      "10 is an integer.\n",
      "--\n",
      "11.0 is a float.\n",
      "--\n",
      "12 is an integer.\n",
      "--\n",
      "13.0 is a float.\n",
      "--\n",
      "14 is an integer.\n",
      "--\n",
      "15.0 is a float.\n",
      "--\n",
      "16 is an integer.\n",
      "--\n"
     ]
    }
   ],
   "source": [
    "for number in float_int_list:\n",
    "    if isinstance(number, float):\n",
    "        print(f\"{number} is a float.\")\n",
    "    else:\n",
    "        print(f\"{number} is an integer.\")\n",
    "    print('--')\n",
    "        "
   ]
  }
 ],
 "metadata": {
  "kernelspec": {
   "display_name": "base",
   "language": "python",
   "name": "python3"
  },
  "language_info": {
   "codemirror_mode": {
    "name": "ipython",
    "version": 3
   },
   "file_extension": ".py",
   "mimetype": "text/x-python",
   "name": "python",
   "nbconvert_exporter": "python",
   "pygments_lexer": "ipython3",
   "version": "3.12.7"
  }
 },
 "nbformat": 4,
 "nbformat_minor": 2
}
